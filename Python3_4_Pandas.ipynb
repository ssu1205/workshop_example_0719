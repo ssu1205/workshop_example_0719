{
 "cells": [
  {
   "cell_type": "markdown",
   "id": "0a868923",
   "metadata": {},
   "source": [
    "## 3.4 Pandas\n",
    "\n",
    "### 목차\n",
    "\n",
    "1) [Import 및 데이터 정의](#part1) <br>\n",
    "2) [Series](#part2) <br>\n",
    "3) [인덱스와 레이블](#part3) <br>\n",
    "4) [데이터 파일 읽기](#part4) <br>\n",
    "5) [데이터 탐색 및 처리](#part5) <br>\n",
    "6) [데이터 분석](#part6) <br>\n",
    "\n",
    "- Pandas (Python Data Analysis)는 python 라이브러리 중 하나로 데이터를 읽고 분석하는데 사용됨\n",
    "- Pandas는 주요 통계 패키지나 데이터베이스가 다루는 데이터 입력 형식을 다룰 수 있음\n",
    "- Pandas는 간단한 데이터 분석 함수를 제공함\n",
    "\n"
   ]
  },
  {
   "cell_type": "markdown",
   "id": "684bfcf2",
   "metadata": {},
   "source": [
    "### 1) Import 및 데이터 정의 <a id=\"part1\"></a>\n",
    "\n",
    "- `import` 를 이용해 `pandas` 라이브러리를 불러옴\n",
    "- Pandas 에서 주로 다루는 데이터 구조는 DataFrame 이라고 하는 행렬 형태의 데이터 구조로 각 행은 한 관찰대상을 의미하고 각 열은 관찰하는 변수를 의미함 \n",
    "- DataFrame의 데이터를 정의하기 위해서는 Pandas의 `DataFrame()` 함수를 이용함\n"
   ]
  },
  {
   "cell_type": "code",
   "execution_count": 1,
   "id": "714a06b8",
   "metadata": {},
   "outputs": [
    {
     "name": "stdout",
     "output_type": "stream",
     "text": [
      "    cars  passings\n",
      "0    BMW         3\n",
      "1  Volvo         7\n",
      "2   Ford         2\n"
     ]
    }
   ],
   "source": [
    "import pandas\n",
    "\n",
    "#mydataset dictionary에 cars, passing 이라는 변수를 key로, \n",
    "#그리고 각 key별로 3개의 관찰값을 리스트로 할당함\n",
    "mydataset = {\n",
    "  'cars': [\"BMW\", \"Volvo\", \"Ford\"],\n",
    "  'passings': [3, 7, 2]\n",
    "}\n",
    "#DataFrame 함수를 이용하여 mydataset 을 DataFrame으로  바꿔줌\n",
    "myD = pandas.DataFrame(mydataset)\n",
    "\n",
    "print(myD)\n"
   ]
  },
  {
   "cell_type": "markdown",
   "id": "9faa5ceb",
   "metadata": {},
   "source": [
    "- `pandas`는 주로 `pd`로 축약됨"
   ]
  },
  {
   "cell_type": "code",
   "execution_count": null,
   "id": "e3e74fcc",
   "metadata": {},
   "outputs": [],
   "source": [
    "import pandas as pd"
   ]
  },
  {
   "cell_type": "markdown",
   "id": "0de57336",
   "metadata": {},
   "source": [
    "### 2) Series <a id=\"part2\"></a>\n",
    "- Pandas 에서 1차원 배열 구조를 가진 데이터 유형을 series 라고 함\n",
    "- Series 데이터를 정의하기 위해서는 Pandas의 `Series()` 함수를 이용함"
   ]
  },
  {
   "cell_type": "code",
   "execution_count": 4,
   "id": "6f56fb08",
   "metadata": {},
   "outputs": [
    {
     "name": "stdout",
     "output_type": "stream",
     "text": [
      "0    1\n",
      "1    7\n",
      "2    2\n",
      "dtype: int64\n"
     ]
    }
   ],
   "source": [
    "import pandas as pd\n",
    "\n",
    "#리스트 a를 정의함\n",
    "a = [1, 7, 2]\n",
    "#Serices 함수를 이용해 리스트 a를 Series로 바꿔줌\n",
    "myS = pd.Series(a)\n",
    "\n",
    "print(myS)"
   ]
  },
  {
   "cell_type": "markdown",
   "id": "667ad2df",
   "metadata": {},
   "source": [
    "### 3) 인덱스와 레이블 <a id=\"part3\"></a>\n",
    "- Pandas의 Series와 DataFrame의 데이터값은 인덱스가 할당되어 있음\n",
    "- Pandas DataFrame의 행(row)의 데이터를 접근하기 위해서는 `loc`라는 속성을 이용함 "
   ]
  },
  {
   "cell_type": "code",
   "execution_count": 5,
   "id": "6fd5939b",
   "metadata": {},
   "outputs": [
    {
     "name": "stdout",
     "output_type": "stream",
     "text": [
      "1\n"
     ]
    }
   ],
   "source": [
    "#Series myS의 첫번째 값(인덱스=0) \n",
    "print(myS[0])"
   ]
  },
  {
   "cell_type": "code",
   "execution_count": 2,
   "id": "df927bee",
   "metadata": {},
   "outputs": [
    {
     "name": "stdout",
     "output_type": "stream",
     "text": [
      "cars        BMW\n",
      "passings      3\n",
      "Name: 0, dtype: object\n"
     ]
    }
   ],
   "source": [
    "#DataFrame myD의 첫번째 행의 값들\n",
    "print(myD.loc[0])"
   ]
  },
  {
   "cell_type": "markdown",
   "id": "a35f634c",
   "metadata": {},
   "source": [
    "- 위의 리턴값이 object인 이유는 문자열과 숫자가 섞여 있어서임\n",
    "- Name이 0인 이유는 행의 이름이 할당되지 않아서임"
   ]
  },
  {
   "cell_type": "code",
   "execution_count": 3,
   "id": "e806c9dd",
   "metadata": {},
   "outputs": [
    {
     "name": "stdout",
     "output_type": "stream",
     "text": [
      "    cars  passings\n",
      "0    BMW         3\n",
      "1  Volvo         7\n"
     ]
    }
   ],
   "source": [
    "#DataFrame myD의 첫번째 행, 두번째 행의 값들 (이중 대괄호 조심!)\n",
    "print(myD.loc[[0,1]])"
   ]
  },
  {
   "cell_type": "code",
   "execution_count": 7,
   "id": "353d6985",
   "metadata": {},
   "outputs": [
    {
     "name": "stdout",
     "output_type": "stream",
     "text": [
      "3\n"
     ]
    }
   ],
   "source": [
    "#DataFrame myD의 첫번째 행 두번째 열의 값  (추가됨!)\n",
    "print(myD.loc[0][1])\n",
    "print(myD.loc[0,\"passings\"])\n",
    "print(myD[\"passings\"][0])"
   ]
  },
  {
   "cell_type": "markdown",
   "id": "c5cfdca1",
   "metadata": {},
   "source": [
    "- Series를 정의할 때나 DataFrame을 정의할 때 행에 레이블을 정할 수 있음"
   ]
  },
  {
   "cell_type": "code",
   "execution_count": 10,
   "id": "d239537c",
   "metadata": {},
   "outputs": [
    {
     "name": "stdout",
     "output_type": "stream",
     "text": [
      "x    1\n",
      "y    7\n",
      "z    2\n",
      "dtype: int64\n"
     ]
    }
   ],
   "source": [
    "a = [1, 7, 2]\n",
    "mySL = pd.Series(a, index = [\"x\", \"y\", \"z\"])\n",
    "print(mySL)"
   ]
  },
  {
   "cell_type": "code",
   "execution_count": 60,
   "id": "828fab40",
   "metadata": {},
   "outputs": [
    {
     "name": "stdout",
     "output_type": "stream",
     "text": [
      "       cars  passings\n",
      "car1    BMW         3\n",
      "car2  Volvo         7\n",
      "car3   Ford         2\n"
     ]
    }
   ],
   "source": [
    "myDL = pd.DataFrame(mydataset, index=[\"car1\",\"car2\",\"car3\"])\n",
    "print(myDL)"
   ]
  },
  {
   "cell_type": "markdown",
   "id": "1b4b52e3",
   "metadata": {},
   "source": [
    "- 레이블이 정해진 Series나 DataFrame은 레이블 이름을 이용해서 데이터 값에 접근할 수 있음\n",
    "- 이때 인덱스 번호 대신 [\"레이블이름\"] 과 같은 방법을 씀"
   ]
  },
  {
   "cell_type": "code",
   "execution_count": 12,
   "id": "d15877bc",
   "metadata": {},
   "outputs": [
    {
     "name": "stdout",
     "output_type": "stream",
     "text": [
      "7\n"
     ]
    }
   ],
   "source": [
    "print(mySL[\"y\"])"
   ]
  },
  {
   "cell_type": "code",
   "execution_count": 62,
   "id": "60643f5d",
   "metadata": {},
   "outputs": [
    {
     "name": "stdout",
     "output_type": "stream",
     "text": [
      "cars        Volvo\n",
      "passings        7\n",
      "Name: car2, dtype: object\n"
     ]
    }
   ],
   "source": [
    "print(myDL.loc[\"car2\"])"
   ]
  },
  {
   "cell_type": "markdown",
   "id": "39c096cc",
   "metadata": {},
   "source": [
    "### 4) 데이터 파일 읽기 <a id=\"part4\"></a>\n",
    "\n",
    "#### A. csv 파일 읽기 : `read_csv()`\n",
    "\n",
    "- `read_csv()` 함수를 이용해 csv(comma separated file) 을 읽어서 DataFrame으로 저장함 "
   ]
  },
  {
   "cell_type": "code",
   "execution_count": 14,
   "id": "5e14910d",
   "metadata": {},
   "outputs": [
    {
     "name": "stdout",
     "output_type": "stream",
     "text": [
      "       longitude  latitude  housing_median_age  total_rooms  total_bedrooms  \\\n",
      "0        -122.23     37.88                41.0        880.0           129.0   \n",
      "1        -122.22     37.86                21.0       7099.0          1106.0   \n",
      "2        -122.24     37.85                52.0       1467.0           190.0   \n",
      "3        -122.25     37.85                52.0       1274.0           235.0   \n",
      "4        -122.25     37.85                52.0       1627.0           280.0   \n",
      "...          ...       ...                 ...          ...             ...   \n",
      "20635    -121.09     39.48                25.0       1665.0           374.0   \n",
      "20636    -121.21     39.49                18.0        697.0           150.0   \n",
      "20637    -121.22     39.43                17.0       2254.0           485.0   \n",
      "20638    -121.32     39.43                18.0       1860.0           409.0   \n",
      "20639    -121.24     39.37                16.0       2785.0           616.0   \n",
      "\n",
      "       population  households  median_income  median_house_value  \\\n",
      "0           322.0       126.0         8.3252            452600.0   \n",
      "1          2401.0      1138.0         8.3014            358500.0   \n",
      "2           496.0       177.0         7.2574            352100.0   \n",
      "3           558.0       219.0         5.6431            341300.0   \n",
      "4           565.0       259.0         3.8462            342200.0   \n",
      "...           ...         ...            ...                 ...   \n",
      "20635       845.0       330.0         1.5603             78100.0   \n",
      "20636       356.0       114.0         2.5568             77100.0   \n",
      "20637      1007.0       433.0         1.7000             92300.0   \n",
      "20638       741.0       349.0         1.8672             84700.0   \n",
      "20639      1387.0       530.0         2.3886             89400.0   \n",
      "\n",
      "      ocean_proximity  \n",
      "0            NEAR BAY  \n",
      "1            NEAR BAY  \n",
      "2            NEAR BAY  \n",
      "3            NEAR BAY  \n",
      "4            NEAR BAY  \n",
      "...               ...  \n",
      "20635          INLAND  \n",
      "20636          INLAND  \n",
      "20637          INLAND  \n",
      "20638          INLAND  \n",
      "20639          INLAND  \n",
      "\n",
      "[20640 rows x 10 columns]\n"
     ]
    }
   ],
   "source": [
    "import pandas as pd\n",
    "\n",
    "df = pd.read_csv('housing.csv')\n",
    "print(df) "
   ]
  },
  {
   "cell_type": "markdown",
   "id": "b8b0a15b",
   "metadata": {},
   "source": [
    "B. Excel 파일 읽기 : `read_excel()`\n",
    "- `read_excel()` 함수를 이용해 일반적인 .xls 또는 .xlsx DataFrame으로 저장함 \n",
    "- `sheet_name=` 옵션을 이용해서 excel 파일에서 읽어들일 sheet를 지정할 수 있음"
   ]
  },
  {
   "cell_type": "code",
   "execution_count": 15,
   "id": "105904ba",
   "metadata": {},
   "outputs": [
    {
     "name": "stdout",
     "output_type": "stream",
     "text": [
      "    age     sex     bmi  children smoker     region      charges\n",
      "0    19  female  27.900         0    yes  southwest  16884.92400\n",
      "1    18    male  33.770         1     no  southeast   1725.55230\n",
      "2    28    male  33.000         3     no  southeast   4449.46200\n",
      "3    33    male  22.705         0     no  northwest  21984.47061\n",
      "4    32    male  28.880         0     no  northwest   3866.85520\n",
      "5    31  female  25.740         0     no  southeast   3756.62160\n",
      "6    46  female  33.440         1     no  southeast   8240.58960\n",
      "7    37  female  27.740         3     no  northwest   7281.50560\n",
      "8    37    male  29.830         2     no  northeast   6406.41070\n",
      "9    60  female  25.840         0     no  northwest  28923.13692\n",
      "10   25    male  26.220         0     no  northeast   2721.32080\n",
      "11   62  female  26.290         0    yes  southeast  27808.72510\n",
      "12   23    male  34.400         0     no  southwest   1826.84300\n",
      "13   56  female  39.820         0     no  southeast  11090.71780\n",
      "14   27    male  42.130         0    yes  southeast  39611.75770\n",
      "15   19    male  24.600         1     no  southwest   1837.23700\n",
      "16   52  female  30.780         1     no  northeast  10797.33620\n",
      "17   23    male  23.845         0     no  northeast   2395.17155\n",
      "18   56    male  40.300         0     no  southwest  10602.38500\n",
      "19   30    male  35.300         0    yes  southwest  36837.46700\n",
      "20   60  female  36.005         0     no  northeast  13228.84695\n",
      "21   30  female  32.400         1     no  southwest   4149.73600\n",
      "22   18    male  34.100         0     no  southeast   1137.01100\n",
      "23   34  female  31.920         1    yes  northeast  37701.87680\n",
      "24   37    male  28.025         2     no  northwest   6203.90175\n",
      "25   59  female  27.720         3     no  southeast  14001.13380\n",
      "26   63  female  23.085         0     no  northeast  14451.83515\n",
      "27   55  female  32.775         2     no  northwest  12268.63225\n",
      "28   23    male  17.385         1     no  northwest   2775.19215\n"
     ]
    }
   ],
   "source": [
    "ins = pd.read_excel('SampleData.xlsx')\n",
    "print(ins) "
   ]
  },
  {
   "cell_type": "code",
   "execution_count": 16,
   "id": "fcc00223",
   "metadata": {},
   "outputs": [
    {
     "name": "stdout",
     "output_type": "stream",
     "text": [
      "    age     sex     bmi  children smoker     region      charges\n",
      "0    19  female  27.900         0    yes  southwest  16884.92400\n",
      "1    18    male  33.770         1     no  southeast   1725.55230\n",
      "2    28    male  33.000         3     no  southeast   4449.46200\n",
      "3    33    male  22.705         0     no  northwest  21984.47061\n",
      "4    32    male  28.880         0     no  northwest   3866.85520\n",
      "5    31  female  25.740         0     no  southeast   3756.62160\n",
      "6    46  female  33.440         1     no  southeast   8240.58960\n",
      "7    37  female  27.740         3     no  northwest   7281.50560\n",
      "8    37    male  29.830         2     no  northeast   6406.41070\n",
      "9    60  female  25.840         0     no  northwest  28923.13692\n",
      "10   25    male  26.220         0     no  northeast   2721.32080\n",
      "11   62  female  26.290         0    yes  southeast  27808.72510\n",
      "12   23    male  34.400         0     no  southwest   1826.84300\n",
      "13   56  female  39.820         0     no  southeast  11090.71780\n",
      "14   27    male  42.130         0    yes  southeast  39611.75770\n",
      "15   19    male  24.600         1     no  southwest   1837.23700\n",
      "16   52  female  30.780         1     no  northeast  10797.33620\n",
      "17   23    male  23.845         0     no  northeast   2395.17155\n",
      "18   56    male  40.300         0     no  southwest  10602.38500\n",
      "19   30    male  35.300         0    yes  southwest  36837.46700\n",
      "20   60  female  36.005         0     no  northeast  13228.84695\n",
      "21   30  female  32.400         1     no  southwest   4149.73600\n",
      "22   18    male  34.100         0     no  southeast   1137.01100\n",
      "23   34  female  31.920         1    yes  northeast  37701.87680\n",
      "24   37    male  28.025         2     no  northwest   6203.90175\n",
      "25   59  female  27.720         3     no  southeast  14001.13380\n",
      "26   63  female  23.085         0     no  northeast  14451.83515\n",
      "27   55  female  32.775         2     no  northwest  12268.63225\n",
      "28   23    male  17.385         1     no  northwest   2775.19215\n"
     ]
    }
   ],
   "source": [
    "ins = pd.read_excel('SampleData.xlsx', sheet_name=\"Sheet1\")\n",
    "print(ins) "
   ]
  },
  {
   "cell_type": "markdown",
   "id": "6de9e1a7",
   "metadata": {},
   "source": [
    "### 5) 데이터 탐색 및 처리 <a id=\"part5\"></a>\n",
    "\n",
    "#### A. 데이터 보기 : `head()`, `tail()`\n",
    "- `head()` method는 DataFrame의 윗부분을 보여줌. 디폴트 값은 5로 5행까지 보여줌\n",
    "- `tail()` method는 DataFrame의 아랫부분을 보여줌. 디폴트 값은 5로 5행까지 보여줌"
   ]
  },
  {
   "cell_type": "code",
   "execution_count": 1,
   "id": "de8cd0d8",
   "metadata": {},
   "outputs": [
    {
     "name": "stdout",
     "output_type": "stream",
     "text": [
      "   age     sex     bmi  children smoker     region      charges\n",
      "0   19  female  27.900         0    yes  southwest  16884.92400\n",
      "1   18    male  33.770         1     no  southeast   1725.55230\n",
      "2   28    male  33.000         3     no  southeast   4449.46200\n",
      "3   33    male  22.705         0     no  northwest  21984.47061\n",
      "4   32    male  28.880         0     no  northwest   3866.85520\n",
      "5   31  female  25.740         0     no  southeast   3756.62160\n",
      "6   46  female  33.440         1     no  southeast   8240.58960\n",
      "7   37  female  27.740         3     no  northwest   7281.50560\n",
      "8   37    male  29.830         2     no  northeast   6406.41070\n",
      "9   60  female  25.840         0     no  northwest  28923.13692\n"
     ]
    }
   ],
   "source": [
    "import pandas as pd\n",
    "\n",
    "ins = pd.read_excel('SampleData.xlsx')\n",
    "\n",
    "print(ins.head(10)) #10행까지만 보여줌"
   ]
  },
  {
   "cell_type": "code",
   "execution_count": 2,
   "id": "0e31a907",
   "metadata": {},
   "outputs": [
    {
     "name": "stdout",
     "output_type": "stream",
     "text": [
      "    age     sex     bmi  children smoker     region      charges\n",
      "24   37    male  28.025         2     no  northwest   6203.90175\n",
      "25   59  female  27.720         3     no  southeast  14001.13380\n",
      "26   63  female  23.085         0     no  northeast  14451.83515\n",
      "27   55  female  32.775         2     no  northwest  12268.63225\n",
      "28   23    male  17.385         1     no  northwest   2775.19215\n"
     ]
    }
   ],
   "source": [
    "print(ins.tail()) #마지막에서 5행까지만 보여줌"
   ]
  },
  {
   "cell_type": "markdown",
   "id": "a3fbfd20",
   "metadata": {},
   "source": [
    "#### B. 데이터 정보 : `info()`\n",
    "- `info()` method는 데이터의 변수(column), 데이터 유형과 크기 등 기본 정보를 요약하여 보여줌\n"
   ]
  },
  {
   "cell_type": "code",
   "execution_count": 49,
   "id": "5b021137",
   "metadata": {},
   "outputs": [
    {
     "name": "stdout",
     "output_type": "stream",
     "text": [
      "<class 'pandas.core.frame.DataFrame'>\n",
      "RangeIndex: 29 entries, 0 to 28\n",
      "Data columns (total 7 columns):\n",
      " #   Column    Non-Null Count  Dtype  \n",
      "---  ------    --------------  -----  \n",
      " 0   age       29 non-null     int64  \n",
      " 1   sex       29 non-null     object \n",
      " 2   bmi       29 non-null     float64\n",
      " 3   children  29 non-null     int64  \n",
      " 4   smoker    29 non-null     object \n",
      " 5   region    29 non-null     object \n",
      " 6   charges   29 non-null     float64\n",
      "dtypes: float64(2), int64(2), object(3)\n",
      "memory usage: 1.7+ KB\n",
      "None\n"
     ]
    }
   ],
   "source": [
    "print(ins.info())"
   ]
  },
  {
   "cell_type": "markdown",
   "id": "931f1c78",
   "metadata": {},
   "source": [
    "- 위의 `info()` method의 결과 중 RangeIndex는 행의 수를 말함: 29행(0~28 인덱스)\n",
    "- Data columns 는 열의 수, 즉 변수의 수를 말함\n",
    "- Data columns의 표는 열의 인덱스(#), 변수이름(Column), 각 열의 입력데이터수(Non-Null Count), 그리고 각 열의 데이터 유형(Dtype) 을 제시함\n",
    "- dtypes 는 입력된 데이터 유형의 종류와 그 빈도를 요약함\n",
    "- memory usage 는 데이터가 차지하고 있는 크기를 말함"
   ]
  },
  {
   "cell_type": "markdown",
   "id": "cd767051",
   "metadata": {},
   "source": [
    "#### C. 결측 데이터 처리\n",
    "- `dropna()` method를 사용해 결측치를 포함한 행을 지운 새로운 데이터를 얻을 수 있음\n"
   ]
  },
  {
   "cell_type": "code",
   "execution_count": 5,
   "id": "6eb04941",
   "metadata": {},
   "outputs": [
    {
     "name": "stdout",
     "output_type": "stream",
     "text": [
      "    Duration          Date  Pulse  Maxpulse  Calories\n",
      "0         60  '2020/12/01'    110       130     409.1\n",
      "1         60  '2020/12/02'    117       145     479.0\n",
      "2         60  '2020/12/03'    103       135     340.0\n",
      "3         45  '2020/12/04'    109       175     282.4\n",
      "4         45  '2020/12/05'    117       148     406.0\n",
      "5         60  '2020/12/06'    102       127     300.0\n",
      "6         60  '2020/12/07'    110       136     374.0\n",
      "7        450  '2020/12/08'    104       134     253.3\n",
      "8         30  '2020/12/09'    109       133     195.1\n",
      "9         60  '2020/12/10'     98       124     269.0\n",
      "10        60  '2020/12/11'    103       147     329.3\n",
      "11        60  '2020/12/12'    100       120     250.7\n",
      "12        60  '2020/12/12'    100       120     250.7\n",
      "13        60  '2020/12/13'    106       128     345.3\n",
      "14        60  '2020/12/14'    104       132     379.3\n",
      "15        60  '2020/12/15'     98       123     275.0\n",
      "16        60  '2020/12/16'     98       120     215.2\n",
      "17        60  '2020/12/17'    100       120     300.0\n",
      "18        45  '2020/12/18'     90       112       NaN\n",
      "19        60  '2020/12/19'    103       123     323.0\n",
      "20        45  '2020/12/20'     97       125     243.0\n",
      "21        60  '2020/12/21'    108       131     364.2\n",
      "22        45           NaN    100       119     282.0\n",
      "23        60  '2020/12/23'    130       101     300.0\n",
      "24        45  '2020/12/24'    105       132     246.0\n",
      "25        60  '2020/12/25'    102       126     334.5\n",
      "26        60      20201226    100       120     250.0\n",
      "27        60  '2020/12/27'     92       118     241.0\n",
      "28        60  '2020/12/28'    103       132       NaN\n",
      "29        60  '2020/12/29'    100       132     280.0\n",
      "30        60  '2020/12/30'    102       129     380.3\n",
      "31        60  '2020/12/31'     92       115     243.0\n"
     ]
    }
   ],
   "source": [
    "import pandas as pd\n",
    "\n",
    "df = pd.read_csv('dirtydata.csv')\n",
    "print(df)"
   ]
  },
  {
   "cell_type": "code",
   "execution_count": 9,
   "id": "bdc6101a",
   "metadata": {},
   "outputs": [
    {
     "name": "stdout",
     "output_type": "stream",
     "text": [
      "    Duration          Date  Pulse  Maxpulse  Calories\n",
      "0         60  '2020/12/01'    110       130     409.1\n",
      "1         60  '2020/12/02'    117       145     479.0\n",
      "2         60  '2020/12/03'    103       135     340.0\n",
      "3         45  '2020/12/04'    109       175     282.4\n",
      "4         45  '2020/12/05'    117       148     406.0\n",
      "5         60  '2020/12/06'    102       127     300.0\n",
      "6         60  '2020/12/07'    110       136     374.0\n",
      "7        450  '2020/12/08'    104       134     253.3\n",
      "8         30  '2020/12/09'    109       133     195.1\n",
      "9         60  '2020/12/10'     98       124     269.0\n",
      "10        60  '2020/12/11'    103       147     329.3\n",
      "11        60  '2020/12/12'    100       120     250.7\n",
      "12        60  '2020/12/12'    100       120     250.7\n",
      "13        60  '2020/12/13'    106       128     345.3\n",
      "14        60  '2020/12/14'    104       132     379.3\n",
      "15        60  '2020/12/15'     98       123     275.0\n",
      "16        60  '2020/12/16'     98       120     215.2\n",
      "17        60  '2020/12/17'    100       120     300.0\n",
      "19        60  '2020/12/19'    103       123     323.0\n",
      "20        45  '2020/12/20'     97       125     243.0\n",
      "21        60  '2020/12/21'    108       131     364.2\n",
      "23        60  '2020/12/23'    130       101     300.0\n",
      "24        45  '2020/12/24'    105       132     246.0\n",
      "25        60  '2020/12/25'    102       126     334.5\n",
      "26        60      20201226    100       120     250.0\n",
      "27        60  '2020/12/27'     92       118     241.0\n",
      "29        60  '2020/12/29'    100       132     280.0\n",
      "30        60  '2020/12/30'    102       129     380.3\n",
      "31        60  '2020/12/31'     92       115     243.0\n"
     ]
    }
   ],
   "source": [
    "new_df = df.dropna() #결측치(NaN) 이 있는 행을 지움\n",
    "#print(new_df.to_string())\n",
    "print(new_df)"
   ]
  },
  {
   "cell_type": "markdown",
   "id": "10deb615",
   "metadata": {},
   "source": [
    "- `dropna()`는 행을 지운 새로운 아웃풋을 생성하지만 원본 데이터를 업데이트하지는 않음. - 원본데이터를 업데이트 하고 싶은 경우엔 `dropna(inplace=True)`로 옵션을 선택해야함. 이 경우에는 새로운 아웃풋을 생성하지 않고 원본 데이터만 업데이트 함. "
   ]
  },
  {
   "cell_type": "markdown",
   "id": "4d069408",
   "metadata": {},
   "source": [
    "- `fillna()` method를 사용해 결측치를 새로운 값으로 채울 수 있음"
   ]
  },
  {
   "cell_type": "code",
   "execution_count": 10,
   "id": "6dd33910",
   "metadata": {},
   "outputs": [
    {
     "name": "stdout",
     "output_type": "stream",
     "text": [
      "    Duration          Date  Pulse  Maxpulse  Calories\n",
      "0         60  '2020/12/01'    110       130     409.1\n",
      "1         60  '2020/12/02'    117       145     479.0\n",
      "2         60  '2020/12/03'    103       135     340.0\n",
      "3         45  '2020/12/04'    109       175     282.4\n",
      "4         45  '2020/12/05'    117       148     406.0\n",
      "5         60  '2020/12/06'    102       127     300.0\n",
      "6         60  '2020/12/07'    110       136     374.0\n",
      "7        450  '2020/12/08'    104       134     253.3\n",
      "8         30  '2020/12/09'    109       133     195.1\n",
      "9         60  '2020/12/10'     98       124     269.0\n",
      "10        60  '2020/12/11'    103       147     329.3\n",
      "11        60  '2020/12/12'    100       120     250.7\n",
      "12        60  '2020/12/12'    100       120     250.7\n",
      "13        60  '2020/12/13'    106       128     345.3\n",
      "14        60  '2020/12/14'    104       132     379.3\n",
      "15        60  '2020/12/15'     98       123     275.0\n",
      "16        60  '2020/12/16'     98       120     215.2\n",
      "17        60  '2020/12/17'    100       120     300.0\n",
      "18        45  '2020/12/18'     90       112    9999.0\n",
      "19        60  '2020/12/19'    103       123     323.0\n",
      "20        45  '2020/12/20'     97       125     243.0\n",
      "21        60  '2020/12/21'    108       131     364.2\n",
      "22        45          9999    100       119     282.0\n",
      "23        60  '2020/12/23'    130       101     300.0\n",
      "24        45  '2020/12/24'    105       132     246.0\n",
      "25        60  '2020/12/25'    102       126     334.5\n",
      "26        60      20201226    100       120     250.0\n",
      "27        60  '2020/12/27'     92       118     241.0\n",
      "28        60  '2020/12/28'    103       132    9999.0\n",
      "29        60  '2020/12/29'    100       132     280.0\n",
      "30        60  '2020/12/30'    102       129     380.3\n",
      "31        60  '2020/12/31'     92       115     243.0\n"
     ]
    }
   ],
   "source": [
    "df.fillna(9999, inplace = True) #원본데이터를 업데이트 함\n",
    "print(df)"
   ]
  },
  {
   "cell_type": "code",
   "execution_count": 11,
   "id": "a60336e9",
   "metadata": {},
   "outputs": [
    {
     "name": "stdout",
     "output_type": "stream",
     "text": [
      "    Duration          Date  Pulse  Maxpulse  Calories\n",
      "0         60  '2020/12/01'    110       130     409.1\n",
      "1         60  '2020/12/02'    117       145     479.0\n",
      "2         60  '2020/12/03'    103       135     340.0\n",
      "3         45  '2020/12/04'    109       175     282.4\n",
      "4         45  '2020/12/05'    117       148     406.0\n",
      "5         60  '2020/12/06'    102       127     300.0\n",
      "6         60  '2020/12/07'    110       136     374.0\n",
      "7        450  '2020/12/08'    104       134     253.3\n",
      "8         30  '2020/12/09'    109       133     195.1\n",
      "9         60  '2020/12/10'     98       124     269.0\n",
      "10        60  '2020/12/11'    103       147     329.3\n",
      "11        60  '2020/12/12'    100       120     250.7\n",
      "12        60  '2020/12/12'    100       120     250.7\n",
      "13        60  '2020/12/13'    106       128     345.3\n",
      "14        60  '2020/12/14'    104       132     379.3\n",
      "15        60  '2020/12/15'     98       123     275.0\n",
      "16        60  '2020/12/16'     98       120     215.2\n",
      "17        60  '2020/12/17'    100       120     300.0\n",
      "18        45  '2020/12/18'     90       112    9999.0\n",
      "19        60  '2020/12/19'    103       123     323.0\n",
      "20        45  '2020/12/20'     97       125     243.0\n",
      "21        60  '2020/12/21'    108       131     364.2\n",
      "22        45           NaN    100       119     282.0\n",
      "23        60  '2020/12/23'    130       101     300.0\n",
      "24        45  '2020/12/24'    105       132     246.0\n",
      "25        60  '2020/12/25'    102       126     334.5\n",
      "26        60      20201226    100       120     250.0\n",
      "27        60  '2020/12/27'     92       118     241.0\n",
      "28        60  '2020/12/28'    103       132    9999.0\n",
      "29        60  '2020/12/29'    100       132     280.0\n",
      "30        60  '2020/12/30'    102       129     380.3\n",
      "31        60  '2020/12/31'     92       115     243.0\n"
     ]
    }
   ],
   "source": [
    "#특정 열을 지정하여 결측치를 새로운 값으로 채울 수 있음\n",
    "df = pd.read_csv('dirtydata.csv')\n",
    "df[\"Calories\"].fillna(9999, inplace = True)\n",
    "print(df)"
   ]
  },
  {
   "cell_type": "markdown",
   "id": "ae2ac2dd",
   "metadata": {},
   "source": [
    "#### D. 포맷 또는 데이터 바꾸기\n",
    "\n",
    "- `to_datetime()` method를 이용하면 DateTime 포맷으로 바꿀 수 있음."
   ]
  },
  {
   "cell_type": "code",
   "execution_count": 51,
   "id": "2a249a21",
   "metadata": {},
   "outputs": [
    {
     "name": "stdout",
     "output_type": "stream",
     "text": [
      "    Duration       Date  Pulse  Maxpulse  Calories\n",
      "0         60 2020-12-01    110       130     409.1\n",
      "1         60 2020-12-02    117       145     479.0\n",
      "2         60 2020-12-03    103       135     340.0\n",
      "3         45 2020-12-04    109       175     282.4\n",
      "4         45 2020-12-05    117       148     406.0\n",
      "5         60 2020-12-06    102       127     300.0\n",
      "6         60 2020-12-07    110       136     374.0\n",
      "7        450 2020-12-08    104       134     253.3\n",
      "8         30 2020-12-09    109       133     195.1\n",
      "9         60 2020-12-10     98       124     269.0\n",
      "10        60 2020-12-11    103       147     329.3\n",
      "11        60 2020-12-12    100       120     250.7\n",
      "12        60 2020-12-12    100       120     250.7\n",
      "13        60 2020-12-13    106       128     345.3\n",
      "14        60 2020-12-14    104       132     379.3\n",
      "15        60 2020-12-15     98       123     275.0\n",
      "16        60 2020-12-16     98       120     215.2\n",
      "17        60 2020-12-17    100       120     300.0\n",
      "18        45 2020-12-18     90       112       NaN\n",
      "19        60 2020-12-19    103       123     323.0\n",
      "20        45 2020-12-20     97       125     243.0\n",
      "21        60 2020-12-21    108       131     364.2\n",
      "22        45        NaT    100       119     282.0\n",
      "23        60 2020-12-23    130       101     300.0\n",
      "24        45 2020-12-24    105       132     246.0\n",
      "25        60 2020-12-25    102       126     334.5\n",
      "26        60 2020-12-26    100       120     250.0\n",
      "27        60 2020-12-27     92       118     241.0\n",
      "28        60 2020-12-28    103       132       NaN\n",
      "29        60 2020-12-29    100       132     280.0\n",
      "30        60 2020-12-30    102       129     380.3\n",
      "31        60 2020-12-31     92       115     243.0\n"
     ]
    }
   ],
   "source": [
    "df = pd.read_csv('dirtydata.csv')\n",
    "df['Date'] = pd.to_datetime(df['Date'])\n",
    "print(df) #인덱스26 의 포맷이 교정됨"
   ]
  },
  {
   "cell_type": "markdown",
   "id": "bc94d011",
   "metadata": {},
   "source": [
    "- `loc` 속성을 이용해 데이터를 바꿀 수 있음"
   ]
  },
  {
   "cell_type": "code",
   "execution_count": 53,
   "id": "6c1dc60e",
   "metadata": {},
   "outputs": [
    {
     "name": "stdout",
     "output_type": "stream",
     "text": [
      "    Duration       Date  Pulse  Maxpulse  Calories\n",
      "0         60 2020-12-01    110       130     409.1\n",
      "1         60 2020-12-02    117       145     479.0\n",
      "2         60 2020-12-03    103       135     340.0\n",
      "3         45 2020-12-04    109       175     282.4\n",
      "4         45 2020-12-05    117       148     406.0\n",
      "5         60 2020-12-06    102       127     300.0\n",
      "6         60 2020-12-07    110       136     374.0\n",
      "7         40 2020-12-08    104       134     253.3\n",
      "8         30 2020-12-09    109       133     195.1\n",
      "9         60 2020-12-10     98       124     269.0\n",
      "10        60 2020-12-11    103       147     329.3\n",
      "11        60 2020-12-12    100       120     250.7\n",
      "12        60 2020-12-12    100       120     250.7\n",
      "13        60 2020-12-13    106       128     345.3\n",
      "14        60 2020-12-14    104       132     379.3\n",
      "15        60 2020-12-15     98       123     275.0\n",
      "16        60 2020-12-16     98       120     215.2\n",
      "17        60 2020-12-17    100       120     300.0\n",
      "18        45 2020-12-18     90       112       NaN\n",
      "19        60 2020-12-19    103       123     323.0\n",
      "20        45 2020-12-20     97       125     243.0\n",
      "21        60 2020-12-21    108       131     364.2\n",
      "22        45        NaT    100       119     282.0\n",
      "23        60 2020-12-23    130       101     300.0\n",
      "24        45 2020-12-24    105       132     246.0\n",
      "25        60 2020-12-25    102       126     334.5\n",
      "26        60 2020-12-26    100       120     250.0\n",
      "27        60 2020-12-27     92       118     241.0\n",
      "28        60 2020-12-28    103       132       NaN\n",
      "29        60 2020-12-29    100       132     280.0\n",
      "30        60 2020-12-30    102       129     380.3\n",
      "31        60 2020-12-31     92       115     243.0\n"
     ]
    }
   ],
   "source": [
    "df.loc[7,'Duration']=40  #Duration column의 인덱스 7의 값을 450-> 40으로 바꿈\n",
    "print(df)"
   ]
  },
  {
   "cell_type": "markdown",
   "id": "77d943f8",
   "metadata": {},
   "source": [
    "### 6) 데이터 분석 <a id=\"part6\"></a>\n",
    "\n",
    "#### A. 평균 : `mean()`\n",
    "- `mean()` method를 사용해 평균을 구할 수 있음\n",
    "- axis 옵션을 이용하여 행별 평균(axis=1) 또는 열별 평균(axis=0)을 계산함\n",
    "- DataFrame의 특정 변수를 지정하여 평균을 구할 수 있음"
   ]
  },
  {
   "cell_type": "code",
   "execution_count": 1,
   "id": "bdf7fb44",
   "metadata": {},
   "outputs": [
    {
     "data": {
      "text/plain": [
       "A    13.0\n",
       "B    13.2\n",
       "C    10.8\n",
       "D     8.4\n",
       "dtype: float64"
      ]
     },
     "execution_count": 1,
     "metadata": {},
     "output_type": "execute_result"
    }
   ],
   "source": [
    "import pandas as pd\n",
    "df = pd.DataFrame({\"A\":[12, 4, 4, 44, 1],\n",
    "                   \"B\":[5, 2, 54, 3, 2], \n",
    "                   \"C\":[20, 16, 7, 3, 8],\n",
    "                   \"D\":[14, 3, 17, 2, 6]})\n",
    "df.mean() #default는 axis=0"
   ]
  },
  {
   "cell_type": "code",
   "execution_count": 16,
   "id": "3bdcfb57",
   "metadata": {},
   "outputs": [
    {
     "data": {
      "text/plain": [
       "0    12.75\n",
       "1     6.25\n",
       "2    20.75\n",
       "3    13.00\n",
       "4     4.25\n",
       "dtype: float64"
      ]
     },
     "execution_count": 16,
     "metadata": {},
     "output_type": "execute_result"
    }
   ],
   "source": [
    "df.mean(axis=1) #행별 평균"
   ]
  },
  {
   "cell_type": "code",
   "execution_count": 17,
   "id": "4f81a683",
   "metadata": {},
   "outputs": [
    {
     "data": {
      "text/plain": [
       "13.2"
      ]
     },
     "execution_count": 17,
     "metadata": {},
     "output_type": "execute_result"
    }
   ],
   "source": [
    "df[\"A\"].mean() # 특정 열을 지정하여 평균"
   ]
  },
  {
   "cell_type": "code",
   "execution_count": null,
   "id": "a96de987",
   "metadata": {},
   "outputs": [],
   "source": []
  },
  {
   "cell_type": "markdown",
   "id": "0e9bb995",
   "metadata": {},
   "source": [
    "#### B.  중앙값 :  `median()`\n",
    "- `median()` method를 사용해 중앙값을 구할 수 있음\n",
    "- axis 옵션을 사용할 수 있음"
   ]
  },
  {
   "cell_type": "code",
   "execution_count": 13,
   "id": "6978ada9",
   "metadata": {},
   "outputs": [
    {
     "data": {
      "text/plain": [
       "291.2"
      ]
     },
     "execution_count": 13,
     "metadata": {},
     "output_type": "execute_result"
    }
   ],
   "source": [
    "df[\"A\"].median()"
   ]
  },
  {
   "cell_type": "code",
   "execution_count": 18,
   "id": "efbef6aa",
   "metadata": {},
   "outputs": [
    {
     "data": {
      "text/plain": [
       "0    13.0\n",
       "1     3.5\n",
       "2    12.0\n",
       "3     3.0\n",
       "4     4.0\n",
       "dtype: float64"
      ]
     },
     "execution_count": 18,
     "metadata": {},
     "output_type": "execute_result"
    }
   ],
   "source": [
    "df.median(axis=1)"
   ]
  },
  {
   "cell_type": "markdown",
   "id": "10803da3",
   "metadata": {},
   "source": [
    "#### C. 최빈값 : `mode()`\n",
    "- `mode()` method를 사용해 최빈값을 구할 수 있음\n",
    "-  최빈값이 여럿인 경우 Series로 아웃풋이 나올 수 있음"
   ]
  },
  {
   "cell_type": "code",
   "execution_count": 23,
   "id": "c85a09e8",
   "metadata": {},
   "outputs": [
    {
     "data": {
      "text/plain": [
       "0    4\n",
       "dtype: int64"
      ]
     },
     "execution_count": 23,
     "metadata": {},
     "output_type": "execute_result"
    }
   ],
   "source": [
    "df[\"A\"].mode()"
   ]
  },
  {
   "cell_type": "code",
   "execution_count": 26,
   "id": "46a5ff13",
   "metadata": {},
   "outputs": [
    {
     "name": "stdout",
     "output_type": "stream",
     "text": [
      "3\n"
     ]
    }
   ],
   "source": [
    "print(df[\"C\"].mode())\n",
    "print(df[\"C\"].mode()[0])"
   ]
  },
  {
   "cell_type": "code",
   "execution_count": 27,
   "id": "d3b0e840",
   "metadata": {},
   "outputs": [
    {
     "data": {
      "text/html": [
       "<div>\n",
       "<style scoped>\n",
       "    .dataframe tbody tr th:only-of-type {\n",
       "        vertical-align: middle;\n",
       "    }\n",
       "\n",
       "    .dataframe tbody tr th {\n",
       "        vertical-align: top;\n",
       "    }\n",
       "\n",
       "    .dataframe thead th {\n",
       "        text-align: right;\n",
       "    }\n",
       "</style>\n",
       "<table border=\"1\" class=\"dataframe\">\n",
       "  <thead>\n",
       "    <tr style=\"text-align: right;\">\n",
       "      <th></th>\n",
       "      <th>A</th>\n",
       "      <th>B</th>\n",
       "      <th>C</th>\n",
       "      <th>D</th>\n",
       "    </tr>\n",
       "  </thead>\n",
       "  <tbody>\n",
       "    <tr>\n",
       "      <th>0</th>\n",
       "      <td>4.0</td>\n",
       "      <td>2.0</td>\n",
       "      <td>3</td>\n",
       "      <td>2</td>\n",
       "    </tr>\n",
       "    <tr>\n",
       "      <th>1</th>\n",
       "      <td>NaN</td>\n",
       "      <td>NaN</td>\n",
       "      <td>7</td>\n",
       "      <td>3</td>\n",
       "    </tr>\n",
       "    <tr>\n",
       "      <th>2</th>\n",
       "      <td>NaN</td>\n",
       "      <td>NaN</td>\n",
       "      <td>8</td>\n",
       "      <td>6</td>\n",
       "    </tr>\n",
       "    <tr>\n",
       "      <th>3</th>\n",
       "      <td>NaN</td>\n",
       "      <td>NaN</td>\n",
       "      <td>16</td>\n",
       "      <td>14</td>\n",
       "    </tr>\n",
       "    <tr>\n",
       "      <th>4</th>\n",
       "      <td>NaN</td>\n",
       "      <td>NaN</td>\n",
       "      <td>20</td>\n",
       "      <td>17</td>\n",
       "    </tr>\n",
       "  </tbody>\n",
       "</table>\n",
       "</div>"
      ],
      "text/plain": [
       "     A    B   C   D\n",
       "0  4.0  2.0   3   2\n",
       "1  NaN  NaN   7   3\n",
       "2  NaN  NaN   8   6\n",
       "3  NaN  NaN  16  14\n",
       "4  NaN  NaN  20  17"
      ]
     },
     "execution_count": 27,
     "metadata": {},
     "output_type": "execute_result"
    }
   ],
   "source": [
    "df.mode()"
   ]
  },
  {
   "cell_type": "markdown",
   "id": "29f9939d",
   "metadata": {},
   "source": [
    "- 위의 경우 각 열별 최빈값을 구하여 아웃풋으로 함\n",
    "- A, B의 경우 최빈값이 하나 지만 C와 D는 여럿 이므로 결과가 DataFrame의 형식을 가짐"
   ]
  },
  {
   "cell_type": "markdown",
   "id": "8983eefe",
   "metadata": {},
   "source": [
    "#### D. 상관계수 : `corr()`\n",
    "- `corr()` method는 DataFrame의 각 열 사이의 상관계수를 계산함\n",
    "- 아웃풋은 열(변수)의 개수를 그 크기로 하는 정사각행렬의 형태인 상관행렬이고 대각선에는 자기 자신과의 상관계수 즉 1의 값이 계산됨\n",
    "- 디폴트로 Pearson 상관계수를 계산하고(`method='pearson'`) 그 외에 'kendall', 'spearman' 을 선택할 수 있음\n"
   ]
  },
  {
   "cell_type": "code",
   "execution_count": 28,
   "id": "bd736e30",
   "metadata": {},
   "outputs": [
    {
     "data": {
      "text/html": [
       "<div>\n",
       "<style scoped>\n",
       "    .dataframe tbody tr th:only-of-type {\n",
       "        vertical-align: middle;\n",
       "    }\n",
       "\n",
       "    .dataframe tbody tr th {\n",
       "        vertical-align: top;\n",
       "    }\n",
       "\n",
       "    .dataframe thead th {\n",
       "        text-align: right;\n",
       "    }\n",
       "</style>\n",
       "<table border=\"1\" class=\"dataframe\">\n",
       "  <thead>\n",
       "    <tr style=\"text-align: right;\">\n",
       "      <th></th>\n",
       "      <th>A</th>\n",
       "      <th>B</th>\n",
       "      <th>C</th>\n",
       "      <th>D</th>\n",
       "    </tr>\n",
       "  </thead>\n",
       "  <tbody>\n",
       "    <tr>\n",
       "      <th>A</th>\n",
       "      <td>1.000000</td>\n",
       "      <td>-0.270491</td>\n",
       "      <td>-0.462779</td>\n",
       "      <td>-0.425590</td>\n",
       "    </tr>\n",
       "    <tr>\n",
       "      <th>B</th>\n",
       "      <td>-0.270491</td>\n",
       "      <td>1.000000</td>\n",
       "      <td>-0.278867</td>\n",
       "      <td>0.744160</td>\n",
       "    </tr>\n",
       "    <tr>\n",
       "      <th>C</th>\n",
       "      <td>-0.462779</td>\n",
       "      <td>-0.278867</td>\n",
       "      <td>1.000000</td>\n",
       "      <td>0.252293</td>\n",
       "    </tr>\n",
       "    <tr>\n",
       "      <th>D</th>\n",
       "      <td>-0.425590</td>\n",
       "      <td>0.744160</td>\n",
       "      <td>0.252293</td>\n",
       "      <td>1.000000</td>\n",
       "    </tr>\n",
       "  </tbody>\n",
       "</table>\n",
       "</div>"
      ],
      "text/plain": [
       "          A         B         C         D\n",
       "A  1.000000 -0.270491 -0.462779 -0.425590\n",
       "B -0.270491  1.000000 -0.278867  0.744160\n",
       "C -0.462779 -0.278867  1.000000  0.252293\n",
       "D -0.425590  0.744160  0.252293  1.000000"
      ]
     },
     "execution_count": 28,
     "metadata": {},
     "output_type": "execute_result"
    }
   ],
   "source": [
    "df.corr()"
   ]
  },
  {
   "cell_type": "markdown",
   "id": "9a4a750c",
   "metadata": {},
   "source": [
    "- `corr()`은 수치가 아닌 열(변수)는 무시하고 상관행렬을 계산함"
   ]
  },
  {
   "cell_type": "code",
   "execution_count": 29,
   "id": "a24d3484",
   "metadata": {},
   "outputs": [
    {
     "data": {
      "text/html": [
       "<div>\n",
       "<style scoped>\n",
       "    .dataframe tbody tr th:only-of-type {\n",
       "        vertical-align: middle;\n",
       "    }\n",
       "\n",
       "    .dataframe tbody tr th {\n",
       "        vertical-align: top;\n",
       "    }\n",
       "\n",
       "    .dataframe thead th {\n",
       "        text-align: right;\n",
       "    }\n",
       "</style>\n",
       "<table border=\"1\" class=\"dataframe\">\n",
       "  <thead>\n",
       "    <tr style=\"text-align: right;\">\n",
       "      <th></th>\n",
       "      <th>age</th>\n",
       "      <th>bmi</th>\n",
       "      <th>children</th>\n",
       "      <th>charges</th>\n",
       "    </tr>\n",
       "  </thead>\n",
       "  <tbody>\n",
       "    <tr>\n",
       "      <th>age</th>\n",
       "      <td>1.000000</td>\n",
       "      <td>0.111636</td>\n",
       "      <td>0.051713</td>\n",
       "      <td>0.296912</td>\n",
       "    </tr>\n",
       "    <tr>\n",
       "      <th>bmi</th>\n",
       "      <td>0.111636</td>\n",
       "      <td>1.000000</td>\n",
       "      <td>-0.083021</td>\n",
       "      <td>0.224011</td>\n",
       "    </tr>\n",
       "    <tr>\n",
       "      <th>children</th>\n",
       "      <td>0.051713</td>\n",
       "      <td>-0.083021</td>\n",
       "      <td>1.000000</td>\n",
       "      <td>-0.226181</td>\n",
       "    </tr>\n",
       "    <tr>\n",
       "      <th>charges</th>\n",
       "      <td>0.296912</td>\n",
       "      <td>0.224011</td>\n",
       "      <td>-0.226181</td>\n",
       "      <td>1.000000</td>\n",
       "    </tr>\n",
       "  </tbody>\n",
       "</table>\n",
       "</div>"
      ],
      "text/plain": [
       "               age       bmi  children   charges\n",
       "age       1.000000  0.111636  0.051713  0.296912\n",
       "bmi       0.111636  1.000000 -0.083021  0.224011\n",
       "children  0.051713 -0.083021  1.000000 -0.226181\n",
       "charges   0.296912  0.224011 -0.226181  1.000000"
      ]
     },
     "execution_count": 29,
     "metadata": {},
     "output_type": "execute_result"
    }
   ],
   "source": [
    "import pandas as pd\n",
    "ins = pd.read_excel('SampleData.xlsx')\n",
    "ins.corr()"
   ]
  },
  {
   "cell_type": "code",
   "execution_count": 58,
   "id": "ee64217f",
   "metadata": {},
   "outputs": [
    {
     "name": "stdout",
     "output_type": "stream",
     "text": [
      "0.1116361353259829\n",
      "0.1116361353259829\n"
     ]
    }
   ],
   "source": [
    "#corr()의 아웃풋은 DataFrame으로 그 개별 값은 다음과 같이 접근 가능함\n",
    "cor=ins.corr()\n",
    "print(cor.loc[\"age\",\"bmi\"])\n",
    "print(cor[\"age\"][1])"
   ]
  },
  {
   "cell_type": "markdown",
   "id": "a4db551d",
   "metadata": {},
   "source": [
    "- `cov()`은 공분산행렬을 계산해 줌"
   ]
  },
  {
   "cell_type": "code",
   "execution_count": 48,
   "id": "0291a796",
   "metadata": {},
   "outputs": [
    {
     "data": {
      "text/html": [
       "<div>\n",
       "<style scoped>\n",
       "    .dataframe tbody tr th:only-of-type {\n",
       "        vertical-align: middle;\n",
       "    }\n",
       "\n",
       "    .dataframe tbody tr th {\n",
       "        vertical-align: top;\n",
       "    }\n",
       "\n",
       "    .dataframe thead th {\n",
       "        text-align: right;\n",
       "    }\n",
       "</style>\n",
       "<table border=\"1\" class=\"dataframe\">\n",
       "  <thead>\n",
       "    <tr style=\"text-align: right;\">\n",
       "      <th></th>\n",
       "      <th>age</th>\n",
       "      <th>bmi</th>\n",
       "      <th>children</th>\n",
       "      <th>charges</th>\n",
       "    </tr>\n",
       "  </thead>\n",
       "  <tbody>\n",
       "    <tr>\n",
       "      <th>age</th>\n",
       "      <td>237.435961</td>\n",
       "      <td>9.818393</td>\n",
       "      <td>0.815271</td>\n",
       "      <td>5.302916e+04</td>\n",
       "    </tr>\n",
       "    <tr>\n",
       "      <th>bmi</th>\n",
       "      <td>9.818393</td>\n",
       "      <td>32.578023</td>\n",
       "      <td>-0.484821</td>\n",
       "      <td>1.481991e+04</td>\n",
       "    </tr>\n",
       "    <tr>\n",
       "      <th>children</th>\n",
       "      <td>0.815271</td>\n",
       "      <td>-0.484821</td>\n",
       "      <td>1.046798</td>\n",
       "      <td>-2.682262e+03</td>\n",
       "    </tr>\n",
       "    <tr>\n",
       "      <th>charges</th>\n",
       "      <td>53029.160305</td>\n",
       "      <td>14819.908366</td>\n",
       "      <td>-2682.261978</td>\n",
       "      <td>1.343469e+08</td>\n",
       "    </tr>\n",
       "  </tbody>\n",
       "</table>\n",
       "</div>"
      ],
      "text/plain": [
       "                   age           bmi     children       charges\n",
       "age         237.435961      9.818393     0.815271  5.302916e+04\n",
       "bmi           9.818393     32.578023    -0.484821  1.481991e+04\n",
       "children      0.815271     -0.484821     1.046798 -2.682262e+03\n",
       "charges   53029.160305  14819.908366 -2682.261978  1.343469e+08"
      ]
     },
     "execution_count": 48,
     "metadata": {},
     "output_type": "execute_result"
    }
   ],
   "source": [
    "ins.cov()"
   ]
  },
  {
   "cell_type": "markdown",
   "id": "6bcd8d50",
   "metadata": {},
   "source": [
    "#### E. Subsetting on condition on the row\n",
    "- 데이터를 조건을 기준으로 열의 서브셋을 구하는 법"
   ]
  },
  {
   "cell_type": "code",
   "execution_count": 3,
   "id": "2517392b",
   "metadata": {},
   "outputs": [
    {
     "data": {
      "text/html": [
       "<div>\n",
       "<style scoped>\n",
       "    .dataframe tbody tr th:only-of-type {\n",
       "        vertical-align: middle;\n",
       "    }\n",
       "\n",
       "    .dataframe tbody tr th {\n",
       "        vertical-align: top;\n",
       "    }\n",
       "\n",
       "    .dataframe thead th {\n",
       "        text-align: right;\n",
       "    }\n",
       "</style>\n",
       "<table border=\"1\" class=\"dataframe\">\n",
       "  <thead>\n",
       "    <tr style=\"text-align: right;\">\n",
       "      <th></th>\n",
       "      <th>age</th>\n",
       "      <th>sex</th>\n",
       "      <th>bmi</th>\n",
       "      <th>children</th>\n",
       "      <th>smoker</th>\n",
       "      <th>region</th>\n",
       "      <th>charges</th>\n",
       "    </tr>\n",
       "  </thead>\n",
       "  <tbody>\n",
       "    <tr>\n",
       "      <th>0</th>\n",
       "      <td>19</td>\n",
       "      <td>female</td>\n",
       "      <td>27.900</td>\n",
       "      <td>0</td>\n",
       "      <td>yes</td>\n",
       "      <td>southwest</td>\n",
       "      <td>16884.92400</td>\n",
       "    </tr>\n",
       "    <tr>\n",
       "      <th>1</th>\n",
       "      <td>18</td>\n",
       "      <td>male</td>\n",
       "      <td>33.770</td>\n",
       "      <td>1</td>\n",
       "      <td>no</td>\n",
       "      <td>southeast</td>\n",
       "      <td>1725.55230</td>\n",
       "    </tr>\n",
       "    <tr>\n",
       "      <th>2</th>\n",
       "      <td>28</td>\n",
       "      <td>male</td>\n",
       "      <td>33.000</td>\n",
       "      <td>3</td>\n",
       "      <td>no</td>\n",
       "      <td>southeast</td>\n",
       "      <td>4449.46200</td>\n",
       "    </tr>\n",
       "    <tr>\n",
       "      <th>3</th>\n",
       "      <td>33</td>\n",
       "      <td>male</td>\n",
       "      <td>22.705</td>\n",
       "      <td>0</td>\n",
       "      <td>no</td>\n",
       "      <td>northwest</td>\n",
       "      <td>21984.47061</td>\n",
       "    </tr>\n",
       "    <tr>\n",
       "      <th>4</th>\n",
       "      <td>32</td>\n",
       "      <td>male</td>\n",
       "      <td>28.880</td>\n",
       "      <td>0</td>\n",
       "      <td>no</td>\n",
       "      <td>northwest</td>\n",
       "      <td>3866.85520</td>\n",
       "    </tr>\n",
       "  </tbody>\n",
       "</table>\n",
       "</div>"
      ],
      "text/plain": [
       "   age     sex     bmi  children smoker     region      charges\n",
       "0   19  female  27.900         0    yes  southwest  16884.92400\n",
       "1   18    male  33.770         1     no  southeast   1725.55230\n",
       "2   28    male  33.000         3     no  southeast   4449.46200\n",
       "3   33    male  22.705         0     no  northwest  21984.47061\n",
       "4   32    male  28.880         0     no  northwest   3866.85520"
      ]
     },
     "execution_count": 3,
     "metadata": {},
     "output_type": "execute_result"
    }
   ],
   "source": [
    "import pandas as pd\n",
    "ins = pd.read_excel('SampleData.xlsx')\n",
    "ins.head()"
   ]
  },
  {
   "cell_type": "code",
   "execution_count": 4,
   "id": "b4cfb0d6",
   "metadata": {},
   "outputs": [
    {
     "name": "stdout",
     "output_type": "stream",
     "text": [
      "<class 'pandas.core.frame.DataFrame'>\n",
      "RangeIndex: 29 entries, 0 to 28\n",
      "Data columns (total 7 columns):\n",
      " #   Column    Non-Null Count  Dtype  \n",
      "---  ------    --------------  -----  \n",
      " 0   age       29 non-null     int64  \n",
      " 1   sex       29 non-null     object \n",
      " 2   bmi       29 non-null     float64\n",
      " 3   children  29 non-null     int64  \n",
      " 4   smoker    29 non-null     object \n",
      " 5   region    29 non-null     object \n",
      " 6   charges   29 non-null     float64\n",
      "dtypes: float64(2), int64(2), object(3)\n",
      "memory usage: 1.7+ KB\n",
      "None\n"
     ]
    }
   ],
   "source": [
    "print(ins.info())"
   ]
  },
  {
   "cell_type": "code",
   "execution_count": 7,
   "id": "95180461",
   "metadata": {},
   "outputs": [
    {
     "name": "stdout",
     "output_type": "stream",
     "text": [
      "<class 'pandas.core.frame.DataFrame'>\n",
      "Int64Index: 25 entries, 2 to 28\n",
      "Data columns (total 7 columns):\n",
      " #   Column    Non-Null Count  Dtype  \n",
      "---  ------    --------------  -----  \n",
      " 0   age       25 non-null     int64  \n",
      " 1   sex       25 non-null     object \n",
      " 2   bmi       25 non-null     float64\n",
      " 3   children  25 non-null     int64  \n",
      " 4   smoker    25 non-null     object \n",
      " 5   region    25 non-null     object \n",
      " 6   charges   25 non-null     float64\n",
      "dtypes: float64(2), int64(2), object(3)\n",
      "memory usage: 1.6+ KB\n",
      "None\n"
     ]
    },
    {
     "data": {
      "text/html": [
       "<div>\n",
       "<style scoped>\n",
       "    .dataframe tbody tr th:only-of-type {\n",
       "        vertical-align: middle;\n",
       "    }\n",
       "\n",
       "    .dataframe tbody tr th {\n",
       "        vertical-align: top;\n",
       "    }\n",
       "\n",
       "    .dataframe thead th {\n",
       "        text-align: right;\n",
       "    }\n",
       "</style>\n",
       "<table border=\"1\" class=\"dataframe\">\n",
       "  <thead>\n",
       "    <tr style=\"text-align: right;\">\n",
       "      <th></th>\n",
       "      <th>age</th>\n",
       "      <th>sex</th>\n",
       "      <th>bmi</th>\n",
       "      <th>children</th>\n",
       "      <th>smoker</th>\n",
       "      <th>region</th>\n",
       "      <th>charges</th>\n",
       "    </tr>\n",
       "  </thead>\n",
       "  <tbody>\n",
       "    <tr>\n",
       "      <th>2</th>\n",
       "      <td>28</td>\n",
       "      <td>male</td>\n",
       "      <td>33.000</td>\n",
       "      <td>3</td>\n",
       "      <td>no</td>\n",
       "      <td>southeast</td>\n",
       "      <td>4449.46200</td>\n",
       "    </tr>\n",
       "    <tr>\n",
       "      <th>3</th>\n",
       "      <td>33</td>\n",
       "      <td>male</td>\n",
       "      <td>22.705</td>\n",
       "      <td>0</td>\n",
       "      <td>no</td>\n",
       "      <td>northwest</td>\n",
       "      <td>21984.47061</td>\n",
       "    </tr>\n",
       "    <tr>\n",
       "      <th>4</th>\n",
       "      <td>32</td>\n",
       "      <td>male</td>\n",
       "      <td>28.880</td>\n",
       "      <td>0</td>\n",
       "      <td>no</td>\n",
       "      <td>northwest</td>\n",
       "      <td>3866.85520</td>\n",
       "    </tr>\n",
       "    <tr>\n",
       "      <th>5</th>\n",
       "      <td>31</td>\n",
       "      <td>female</td>\n",
       "      <td>25.740</td>\n",
       "      <td>0</td>\n",
       "      <td>no</td>\n",
       "      <td>southeast</td>\n",
       "      <td>3756.62160</td>\n",
       "    </tr>\n",
       "    <tr>\n",
       "      <th>6</th>\n",
       "      <td>46</td>\n",
       "      <td>female</td>\n",
       "      <td>33.440</td>\n",
       "      <td>1</td>\n",
       "      <td>no</td>\n",
       "      <td>southeast</td>\n",
       "      <td>8240.58960</td>\n",
       "    </tr>\n",
       "  </tbody>\n",
       "</table>\n",
       "</div>"
      ],
      "text/plain": [
       "   age     sex     bmi  children smoker     region      charges\n",
       "2   28    male  33.000         3     no  southeast   4449.46200\n",
       "3   33    male  22.705         0     no  northwest  21984.47061\n",
       "4   32    male  28.880         0     no  northwest   3866.85520\n",
       "5   31  female  25.740         0     no  southeast   3756.62160\n",
       "6   46  female  33.440         1     no  southeast   8240.58960"
      ]
     },
     "execution_count": 7,
     "metadata": {},
     "output_type": "execute_result"
    }
   ],
   "source": [
    "#age>20 이상인 경우만\n",
    "agehigh=ins[ins[\"age\"]>20]\n",
    "print(agehigh.info())\n",
    "agehigh.head()"
   ]
  },
  {
   "cell_type": "code",
   "execution_count": 9,
   "id": "56f42835",
   "metadata": {},
   "outputs": [
    {
     "name": "stdout",
     "output_type": "stream",
     "text": [
      "<class 'pandas.core.frame.DataFrame'>\n",
      "Int64Index: 15 entries, 1 to 28\n",
      "Data columns (total 7 columns):\n",
      " #   Column    Non-Null Count  Dtype  \n",
      "---  ------    --------------  -----  \n",
      " 0   age       15 non-null     int64  \n",
      " 1   sex       15 non-null     object \n",
      " 2   bmi       15 non-null     float64\n",
      " 3   children  15 non-null     int64  \n",
      " 4   smoker    15 non-null     object \n",
      " 5   region    15 non-null     object \n",
      " 6   charges   15 non-null     float64\n",
      "dtypes: float64(2), int64(2), object(3)\n",
      "memory usage: 960.0+ bytes\n",
      "None\n"
     ]
    },
    {
     "data": {
      "text/html": [
       "<div>\n",
       "<style scoped>\n",
       "    .dataframe tbody tr th:only-of-type {\n",
       "        vertical-align: middle;\n",
       "    }\n",
       "\n",
       "    .dataframe tbody tr th {\n",
       "        vertical-align: top;\n",
       "    }\n",
       "\n",
       "    .dataframe thead th {\n",
       "        text-align: right;\n",
       "    }\n",
       "</style>\n",
       "<table border=\"1\" class=\"dataframe\">\n",
       "  <thead>\n",
       "    <tr style=\"text-align: right;\">\n",
       "      <th></th>\n",
       "      <th>age</th>\n",
       "      <th>sex</th>\n",
       "      <th>bmi</th>\n",
       "      <th>children</th>\n",
       "      <th>smoker</th>\n",
       "      <th>region</th>\n",
       "      <th>charges</th>\n",
       "    </tr>\n",
       "  </thead>\n",
       "  <tbody>\n",
       "    <tr>\n",
       "      <th>1</th>\n",
       "      <td>18</td>\n",
       "      <td>male</td>\n",
       "      <td>33.770</td>\n",
       "      <td>1</td>\n",
       "      <td>no</td>\n",
       "      <td>southeast</td>\n",
       "      <td>1725.55230</td>\n",
       "    </tr>\n",
       "    <tr>\n",
       "      <th>2</th>\n",
       "      <td>28</td>\n",
       "      <td>male</td>\n",
       "      <td>33.000</td>\n",
       "      <td>3</td>\n",
       "      <td>no</td>\n",
       "      <td>southeast</td>\n",
       "      <td>4449.46200</td>\n",
       "    </tr>\n",
       "    <tr>\n",
       "      <th>3</th>\n",
       "      <td>33</td>\n",
       "      <td>male</td>\n",
       "      <td>22.705</td>\n",
       "      <td>0</td>\n",
       "      <td>no</td>\n",
       "      <td>northwest</td>\n",
       "      <td>21984.47061</td>\n",
       "    </tr>\n",
       "    <tr>\n",
       "      <th>4</th>\n",
       "      <td>32</td>\n",
       "      <td>male</td>\n",
       "      <td>28.880</td>\n",
       "      <td>0</td>\n",
       "      <td>no</td>\n",
       "      <td>northwest</td>\n",
       "      <td>3866.85520</td>\n",
       "    </tr>\n",
       "    <tr>\n",
       "      <th>8</th>\n",
       "      <td>37</td>\n",
       "      <td>male</td>\n",
       "      <td>29.830</td>\n",
       "      <td>2</td>\n",
       "      <td>no</td>\n",
       "      <td>northeast</td>\n",
       "      <td>6406.41070</td>\n",
       "    </tr>\n",
       "  </tbody>\n",
       "</table>\n",
       "</div>"
      ],
      "text/plain": [
       "   age   sex     bmi  children smoker     region      charges\n",
       "1   18  male  33.770         1     no  southeast   1725.55230\n",
       "2   28  male  33.000         3     no  southeast   4449.46200\n",
       "3   33  male  22.705         0     no  northwest  21984.47061\n",
       "4   32  male  28.880         0     no  northwest   3866.85520\n",
       "8   37  male  29.830         2     no  northeast   6406.41070"
      ]
     },
     "execution_count": 9,
     "metadata": {},
     "output_type": "execute_result"
    }
   ],
   "source": [
    "#성별이 male인 경우\n",
    "male=ins[ins[\"sex\"]==\"male\"]\n",
    "print(male.info())\n",
    "male.head()"
   ]
  },
  {
   "cell_type": "code",
   "execution_count": null,
   "id": "ab422212",
   "metadata": {},
   "outputs": [],
   "source": []
  }
 ],
 "metadata": {
  "kernelspec": {
   "display_name": "Python 3 (ipykernel)",
   "language": "python",
   "name": "python3"
  },
  "language_info": {
   "codemirror_mode": {
    "name": "ipython",
    "version": 3
   },
   "file_extension": ".py",
   "mimetype": "text/x-python",
   "name": "python",
   "nbconvert_exporter": "python",
   "pygments_lexer": "ipython3",
   "version": "3.9.7"
  }
 },
 "nbformat": 4,
 "nbformat_minor": 5
}
